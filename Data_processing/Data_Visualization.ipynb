{
 "cells": [
  {
   "cell_type": "code",
   "execution_count": 2,
   "metadata": {},
   "outputs": [],
   "source": [
    "# Reads and closes file before returning the content as a string\n",
    "def read_file(fileName):\n",
    "    file = open(fileName, 'r')\n",
    "    fileContent = file.read()\n",
    "    file.close()\n",
    "    return fileContent\n",
    "\n",
    "# Separates the inputted content into 4 lists of metrics (4 since we know that these metrics are always outputted)\n",
    "def separate_metrics(fileString, ping_data = [], rss_data = [], route_data = [], link_data = []):\n",
    "    fileString = remove_separations(fileString)\n",
    "\n",
    "    # Split into lists of data\n",
    "    for index, content in enumerate(fileString):\n",
    "        if(index % 4 == 0):\n",
    "            ping_data.append(content) \n",
    "        elif(index % 4 == 1):\n",
    "            rss_data.append(content)\n",
    "        elif(index % 4 == 2):\n",
    "            route_data.append(content)\n",
    "        elif(index % 4 == 3):\n",
    "            link_data.append(content)\n",
    "\n",
    "    return ping_data, rss_data, route_data, link_data\n",
    "\n",
    "# Removes the redundant separations that are purely for visual assistance\n",
    "def remove_separations(fileString):\n",
    "    fileString = remove_occurrences(fileString, \"________________________________________________________________\")\n",
    "    fileString = remove_occurrences(fileString, \"____________________________START_______________________________\")\n",
    "    fileString = remove_occurrences(fileString, \"___________________________END__________________________________\")\n",
    "    fileString = remove_occurrences(fileString, \"\")\n",
    "    return fileString\n",
    "\n",
    "# Removes all occurences of a given item in a string\n",
    "def remove_occurrences(fileString, item):\n",
    "    res = [i for i in fileString if i != item]\n",
    "    return res\n",
    "\n",
    "# Extract packet loss, average rtt and the standard deviation of the rtt from the list of ping data\n",
    "def read_ping_data(ping_data, packet_loss_list = [], avg_rtt_list = [], std_deviation_rtt = []):\n",
    "    for entry in ping_data:\n",
    "        ping_information = entry.split(\"---\")[2]\n",
    "        split_information = ping_information.split(\",\")\n",
    "        packet_loss_list.append(split_information[2].split(\"%\")[0])\n",
    "        avg_rtt_list.append(split_information[3].split(\"/\")[4])\n",
    "        std_deviation_rtt.append(split_information[3].split(\"/\")[6][:-3])\n",
    "\n",
    "    return packet_loss_list, avg_rtt_list, std_deviation_rtt\n",
    "\n",
    "# Extract RSS and average RSS from the list of RSS data\n",
    "def read_rss_data(rss_data, rss_list = [], rss_avg_list = []):\n",
    "    for entry in rss_data:\n",
    "        rss_list.append(find_between(entry, \"signal: \", \"[\"))\n",
    "        rss_avg_list.append(find_between(entry, \"signal avg: \", \"[\"))\n",
    "\n",
    "    return rss_list, rss_avg_list\n",
    "\n",
    "# Finds and returns the string between two given sequences of strings\n",
    "def find_between(s, first, last):\n",
    "    start = s.index(first)+len(first)\n",
    "    end = s.index(last, start)\n",
    "    return s[start:end]\n",
    "\n",
    "# Turns a list of strings into a list of floats\n",
    "def list_string_to_float(stringList):\n",
    "    floatList = [float(x) for x in stringList]\n",
    "    return floatList\n",
    "\n",
    "# Turns a list of strings into a list of floats\n",
    "def list_string_to_int(stringList):\n",
    "    intList = [int(x) for x in stringList]\n",
    "    return intList"
   ]
  },
  {
   "cell_type": "code",
   "execution_count": 3,
   "metadata": {},
   "outputs": [],
   "source": [
    "content = read_file(\"../results.txt\")\n",
    "split_content = content.split(\"\\n\")\n",
    "ping_data, rss_data, route_data, link_data = separate_metrics(split_content)\n",
    "packet_loss_list, avg_rtt_list, std_deviation_rtt = read_ping_data(ping_data)\n",
    "rss_list, rss_avg_list = read_rss_data(rss_data)\n",
    "\n",
    "\n",
    "# TODO: Still missing extraction of LINK and ROUTE metrics \n",
    "# I am not sure what is important in these measurements, so figure this out. In route the routing metric is probably important/interesting to look at"
   ]
  },
  {
   "cell_type": "code",
   "execution_count": 4,
   "metadata": {},
   "outputs": [
    {
     "data": {
      "text/plain": [
       "[<matplotlib.lines.Line2D at 0x123ff91bfa0>]"
      ]
     },
     "execution_count": 4,
     "metadata": {},
     "output_type": "execute_result"
    },
    {
     "data": {
      "image/png": "[encoded data removed]",
      "text/plain": [
       "<Figure size 432x288 with 1 Axes>"
      ]
     },
     "metadata": {
      "needs_background": "light"
     },
     "output_type": "display_data"
    }
   ],
   "source": [
    "import matplotlib.pyplot as plt\n",
    "\n",
    "######### Prepare lists by turning them into floats/ints instead of strings######\n",
    "# Int\n",
    "rss_list = list_string_to_int(rss_list)\n",
    "rss_avg_list = list_string_to_int(rss_avg_list)\n",
    "\n",
    "# Float\n",
    "avg_rtt_list = list_string_to_float(avg_rtt_list)\n",
    "std_deviation_rtt = list_string_to_float(std_deviation_rtt)\n",
    "packet_loss_list = list_string_to_float(packet_loss_list)\n",
    "#################################################################################\n",
    "\n",
    "# Example of plotting\n",
    "x_axis = list(range(1, 61))\n",
    "\n",
    "plt.plot(x_axis, rss_avg_list)"
   ]
  }
 ],
 "metadata": {
  "kernelspec": {
   "display_name": "Python 3.10.0 64-bit",
   "language": "python",
   "name": "python3"
  },
  "language_info": {
   "codemirror_mode": {
    "name": "ipython",
    "version": 3
   },
   "file_extension": ".py",
   "mimetype": "text/x-python",
   "name": "python",
   "nbconvert_exporter": "python",
   "pygments_lexer": "ipython3",
   "version": "3.10.0"
  },
  "orig_nbformat": 4,
  "vscode": {
   "interpreter": {
    "hash": "6847c98a8f86b01c6a19c518cd2f366693b80566b266804d5ca763cbb223f52b"
   }
  }
 },
 "nbformat": 4,
 "nbformat_minor": 2
}
